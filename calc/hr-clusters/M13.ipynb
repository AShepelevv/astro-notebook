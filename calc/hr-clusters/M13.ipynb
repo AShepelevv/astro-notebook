{
 "cells": [
  {
   "cell_type": "code",
   "metadata": {
    "ExecuteTime": {
     "end_time": "2024-06-11T18:37:47.126733Z",
     "start_time": "2024-06-11T18:37:47.099891Z"
    }
   },
   "source": [
    "import pandas as pd\n",
    "import numpy as np\n",
    "import matplotlib.pyplot as plt"
   ],
   "outputs": [],
   "execution_count": 15
  },
  {
   "cell_type": "code",
   "metadata": {
    "ExecuteTime": {
     "end_time": "2024-06-11T18:37:47.514134Z",
     "start_time": "2024-06-11T18:37:47.488486Z"
    }
   },
   "source": [
    "raw = pd.read_csv('M13.csv', sep=';') # J/AJ/122/3219/table2 https://vizier.cds.unistra.fr/viz-bin/VizieR\n",
    "raw"
   ],
   "outputs": [
    {
     "data": {
      "text/plain": [
       "        _RAJ2000   _DEJ2000    Vmag    B-V\n",
       "0     250.295471  36.510522  14.242  0.573\n",
       "1     250.235572  36.522439  14.308  0.889\n",
       "2     250.368814  36.534074  14.503  0.844\n",
       "3     250.355074  36.440207  14.721  0.597\n",
       "4     250.362549  36.541051  14.736  0.824\n",
       "...          ...        ...     ...    ...\n",
       "2147  250.360936  36.443593  18.767 -0.324\n",
       "2148  250.370030  36.464155  18.774 -0.267\n",
       "2149  250.357679  36.494635  19.084 -0.285\n",
       "2150  250.348379  36.413693  20.255  0.138\n",
       "2151  250.338789  36.488265  20.769  0.240\n",
       "\n",
       "[2152 rows x 4 columns]"
      ],
      "text/html": [
       "<div>\n",
       "<style scoped>\n",
       "    .dataframe tbody tr th:only-of-type {\n",
       "        vertical-align: middle;\n",
       "    }\n",
       "\n",
       "    .dataframe tbody tr th {\n",
       "        vertical-align: top;\n",
       "    }\n",
       "\n",
       "    .dataframe thead th {\n",
       "        text-align: right;\n",
       "    }\n",
       "</style>\n",
       "<table border=\"1\" class=\"dataframe\">\n",
       "  <thead>\n",
       "    <tr style=\"text-align: right;\">\n",
       "      <th></th>\n",
       "      <th>_RAJ2000</th>\n",
       "      <th>_DEJ2000</th>\n",
       "      <th>Vmag</th>\n",
       "      <th>B-V</th>\n",
       "    </tr>\n",
       "  </thead>\n",
       "  <tbody>\n",
       "    <tr>\n",
       "      <th>0</th>\n",
       "      <td>250.295471</td>\n",
       "      <td>36.510522</td>\n",
       "      <td>14.242</td>\n",
       "      <td>0.573</td>\n",
       "    </tr>\n",
       "    <tr>\n",
       "      <th>1</th>\n",
       "      <td>250.235572</td>\n",
       "      <td>36.522439</td>\n",
       "      <td>14.308</td>\n",
       "      <td>0.889</td>\n",
       "    </tr>\n",
       "    <tr>\n",
       "      <th>2</th>\n",
       "      <td>250.368814</td>\n",
       "      <td>36.534074</td>\n",
       "      <td>14.503</td>\n",
       "      <td>0.844</td>\n",
       "    </tr>\n",
       "    <tr>\n",
       "      <th>3</th>\n",
       "      <td>250.355074</td>\n",
       "      <td>36.440207</td>\n",
       "      <td>14.721</td>\n",
       "      <td>0.597</td>\n",
       "    </tr>\n",
       "    <tr>\n",
       "      <th>4</th>\n",
       "      <td>250.362549</td>\n",
       "      <td>36.541051</td>\n",
       "      <td>14.736</td>\n",
       "      <td>0.824</td>\n",
       "    </tr>\n",
       "    <tr>\n",
       "      <th>...</th>\n",
       "      <td>...</td>\n",
       "      <td>...</td>\n",
       "      <td>...</td>\n",
       "      <td>...</td>\n",
       "    </tr>\n",
       "    <tr>\n",
       "      <th>2147</th>\n",
       "      <td>250.360936</td>\n",
       "      <td>36.443593</td>\n",
       "      <td>18.767</td>\n",
       "      <td>-0.324</td>\n",
       "    </tr>\n",
       "    <tr>\n",
       "      <th>2148</th>\n",
       "      <td>250.370030</td>\n",
       "      <td>36.464155</td>\n",
       "      <td>18.774</td>\n",
       "      <td>-0.267</td>\n",
       "    </tr>\n",
       "    <tr>\n",
       "      <th>2149</th>\n",
       "      <td>250.357679</td>\n",
       "      <td>36.494635</td>\n",
       "      <td>19.084</td>\n",
       "      <td>-0.285</td>\n",
       "    </tr>\n",
       "    <tr>\n",
       "      <th>2150</th>\n",
       "      <td>250.348379</td>\n",
       "      <td>36.413693</td>\n",
       "      <td>20.255</td>\n",
       "      <td>0.138</td>\n",
       "    </tr>\n",
       "    <tr>\n",
       "      <th>2151</th>\n",
       "      <td>250.338789</td>\n",
       "      <td>36.488265</td>\n",
       "      <td>20.769</td>\n",
       "      <td>0.240</td>\n",
       "    </tr>\n",
       "  </tbody>\n",
       "</table>\n",
       "<p>2152 rows × 4 columns</p>\n",
       "</div>"
      ]
     },
     "execution_count": 16,
     "metadata": {},
     "output_type": "execute_result"
    }
   ],
   "execution_count": 16
  },
  {
   "cell_type": "code",
   "metadata": {
    "ExecuteTime": {
     "end_time": "2024-06-11T18:37:48.969728Z",
     "start_time": "2024-06-11T18:37:48.954655Z"
    }
   },
   "source": [
    "data = raw.copy().replace(['     '], np.nan).dropna().astype(float)\n",
    "data = data.rename(columns={'Vmag': 'V'})\n",
    "data"
   ],
   "outputs": [
    {
     "data": {
      "text/plain": [
       "        _RAJ2000   _DEJ2000       V    B-V\n",
       "0     250.295471  36.510522  14.242  0.573\n",
       "1     250.235572  36.522439  14.308  0.889\n",
       "2     250.368814  36.534074  14.503  0.844\n",
       "3     250.355074  36.440207  14.721  0.597\n",
       "4     250.362549  36.541051  14.736  0.824\n",
       "...          ...        ...     ...    ...\n",
       "2147  250.360936  36.443593  18.767 -0.324\n",
       "2148  250.370030  36.464155  18.774 -0.267\n",
       "2149  250.357679  36.494635  19.084 -0.285\n",
       "2150  250.348379  36.413693  20.255  0.138\n",
       "2151  250.338789  36.488265  20.769  0.240\n",
       "\n",
       "[2152 rows x 4 columns]"
      ],
      "text/html": [
       "<div>\n",
       "<style scoped>\n",
       "    .dataframe tbody tr th:only-of-type {\n",
       "        vertical-align: middle;\n",
       "    }\n",
       "\n",
       "    .dataframe tbody tr th {\n",
       "        vertical-align: top;\n",
       "    }\n",
       "\n",
       "    .dataframe thead th {\n",
       "        text-align: right;\n",
       "    }\n",
       "</style>\n",
       "<table border=\"1\" class=\"dataframe\">\n",
       "  <thead>\n",
       "    <tr style=\"text-align: right;\">\n",
       "      <th></th>\n",
       "      <th>_RAJ2000</th>\n",
       "      <th>_DEJ2000</th>\n",
       "      <th>V</th>\n",
       "      <th>B-V</th>\n",
       "    </tr>\n",
       "  </thead>\n",
       "  <tbody>\n",
       "    <tr>\n",
       "      <th>0</th>\n",
       "      <td>250.295471</td>\n",
       "      <td>36.510522</td>\n",
       "      <td>14.242</td>\n",
       "      <td>0.573</td>\n",
       "    </tr>\n",
       "    <tr>\n",
       "      <th>1</th>\n",
       "      <td>250.235572</td>\n",
       "      <td>36.522439</td>\n",
       "      <td>14.308</td>\n",
       "      <td>0.889</td>\n",
       "    </tr>\n",
       "    <tr>\n",
       "      <th>2</th>\n",
       "      <td>250.368814</td>\n",
       "      <td>36.534074</td>\n",
       "      <td>14.503</td>\n",
       "      <td>0.844</td>\n",
       "    </tr>\n",
       "    <tr>\n",
       "      <th>3</th>\n",
       "      <td>250.355074</td>\n",
       "      <td>36.440207</td>\n",
       "      <td>14.721</td>\n",
       "      <td>0.597</td>\n",
       "    </tr>\n",
       "    <tr>\n",
       "      <th>4</th>\n",
       "      <td>250.362549</td>\n",
       "      <td>36.541051</td>\n",
       "      <td>14.736</td>\n",
       "      <td>0.824</td>\n",
       "    </tr>\n",
       "    <tr>\n",
       "      <th>...</th>\n",
       "      <td>...</td>\n",
       "      <td>...</td>\n",
       "      <td>...</td>\n",
       "      <td>...</td>\n",
       "    </tr>\n",
       "    <tr>\n",
       "      <th>2147</th>\n",
       "      <td>250.360936</td>\n",
       "      <td>36.443593</td>\n",
       "      <td>18.767</td>\n",
       "      <td>-0.324</td>\n",
       "    </tr>\n",
       "    <tr>\n",
       "      <th>2148</th>\n",
       "      <td>250.370030</td>\n",
       "      <td>36.464155</td>\n",
       "      <td>18.774</td>\n",
       "      <td>-0.267</td>\n",
       "    </tr>\n",
       "    <tr>\n",
       "      <th>2149</th>\n",
       "      <td>250.357679</td>\n",
       "      <td>36.494635</td>\n",
       "      <td>19.084</td>\n",
       "      <td>-0.285</td>\n",
       "    </tr>\n",
       "    <tr>\n",
       "      <th>2150</th>\n",
       "      <td>250.348379</td>\n",
       "      <td>36.413693</td>\n",
       "      <td>20.255</td>\n",
       "      <td>0.138</td>\n",
       "    </tr>\n",
       "    <tr>\n",
       "      <th>2151</th>\n",
       "      <td>250.338789</td>\n",
       "      <td>36.488265</td>\n",
       "      <td>20.769</td>\n",
       "      <td>0.240</td>\n",
       "    </tr>\n",
       "  </tbody>\n",
       "</table>\n",
       "<p>2152 rows × 4 columns</p>\n",
       "</div>"
      ]
     },
     "execution_count": 17,
     "metadata": {},
     "output_type": "execute_result"
    }
   ],
   "execution_count": 17
  },
  {
   "cell_type": "code",
   "metadata": {
    "ExecuteTime": {
     "end_time": "2024-06-11T18:37:50.531367Z",
     "start_time": "2024-06-11T18:37:50.517414Z"
    }
   },
   "source": [
    "R = 7670.0 # pc\n",
    "R0 = 10.0 # pc\n",
    "\n",
    "data['M_V'] = data['V'] - 5.0 * np.log10(R / R0)\n",
    "data = data[['B-V', 'M_V']].copy()\n",
    "data"
   ],
   "outputs": [
    {
     "data": {
      "text/plain": [
       "        B-V       M_V\n",
       "0     0.573 -0.181977\n",
       "1     0.889 -0.115977\n",
       "2     0.844  0.079023\n",
       "3     0.597  0.297023\n",
       "4     0.824  0.312023\n",
       "...     ...       ...\n",
       "2147 -0.324  4.343023\n",
       "2148 -0.267  4.350023\n",
       "2149 -0.285  4.660023\n",
       "2150  0.138  5.831023\n",
       "2151  0.240  6.345023\n",
       "\n",
       "[2152 rows x 2 columns]"
      ],
      "text/html": [
       "<div>\n",
       "<style scoped>\n",
       "    .dataframe tbody tr th:only-of-type {\n",
       "        vertical-align: middle;\n",
       "    }\n",
       "\n",
       "    .dataframe tbody tr th {\n",
       "        vertical-align: top;\n",
       "    }\n",
       "\n",
       "    .dataframe thead th {\n",
       "        text-align: right;\n",
       "    }\n",
       "</style>\n",
       "<table border=\"1\" class=\"dataframe\">\n",
       "  <thead>\n",
       "    <tr style=\"text-align: right;\">\n",
       "      <th></th>\n",
       "      <th>B-V</th>\n",
       "      <th>M_V</th>\n",
       "    </tr>\n",
       "  </thead>\n",
       "  <tbody>\n",
       "    <tr>\n",
       "      <th>0</th>\n",
       "      <td>0.573</td>\n",
       "      <td>-0.181977</td>\n",
       "    </tr>\n",
       "    <tr>\n",
       "      <th>1</th>\n",
       "      <td>0.889</td>\n",
       "      <td>-0.115977</td>\n",
       "    </tr>\n",
       "    <tr>\n",
       "      <th>2</th>\n",
       "      <td>0.844</td>\n",
       "      <td>0.079023</td>\n",
       "    </tr>\n",
       "    <tr>\n",
       "      <th>3</th>\n",
       "      <td>0.597</td>\n",
       "      <td>0.297023</td>\n",
       "    </tr>\n",
       "    <tr>\n",
       "      <th>4</th>\n",
       "      <td>0.824</td>\n",
       "      <td>0.312023</td>\n",
       "    </tr>\n",
       "    <tr>\n",
       "      <th>...</th>\n",
       "      <td>...</td>\n",
       "      <td>...</td>\n",
       "    </tr>\n",
       "    <tr>\n",
       "      <th>2147</th>\n",
       "      <td>-0.324</td>\n",
       "      <td>4.343023</td>\n",
       "    </tr>\n",
       "    <tr>\n",
       "      <th>2148</th>\n",
       "      <td>-0.267</td>\n",
       "      <td>4.350023</td>\n",
       "    </tr>\n",
       "    <tr>\n",
       "      <th>2149</th>\n",
       "      <td>-0.285</td>\n",
       "      <td>4.660023</td>\n",
       "    </tr>\n",
       "    <tr>\n",
       "      <th>2150</th>\n",
       "      <td>0.138</td>\n",
       "      <td>5.831023</td>\n",
       "    </tr>\n",
       "    <tr>\n",
       "      <th>2151</th>\n",
       "      <td>0.240</td>\n",
       "      <td>6.345023</td>\n",
       "    </tr>\n",
       "  </tbody>\n",
       "</table>\n",
       "<p>2152 rows × 2 columns</p>\n",
       "</div>"
      ]
     },
     "execution_count": 18,
     "metadata": {},
     "output_type": "execute_result"
    }
   ],
   "execution_count": 18
  },
  {
   "cell_type": "code",
   "metadata": {
    "ExecuteTime": {
     "end_time": "2024-06-11T18:38:12.725255Z",
     "start_time": "2024-06-11T18:38:12.571553Z"
    }
   },
   "source": [
    "data.to_csv('../../data/hr-M13.txt', sep='\\t', index=False, float_format='%.4f')\n",
    "!head ../../data/hr-M13.txt"
   ],
   "outputs": [
    {
     "name": "stdout",
     "output_type": "stream",
     "text": [
      "B-V\tM_V\r\n",
      "0.5730\t-0.1820\r\n",
      "0.8890\t-0.1160\r\n",
      "0.8440\t0.0790\r\n",
      "0.5970\t0.2970\r\n",
      "0.8240\t0.3120\r\n",
      "0.5810\t0.4650\r\n",
      "1.3790\t0.6060\r\n",
      "0.7880\t0.6210\r\n",
      "0.0730\t0.6390\r\n"
     ]
    }
   ],
   "execution_count": 20
  },
  {
   "cell_type": "code",
   "metadata": {
    "ExecuteTime": {
     "end_time": "2024-06-11T18:37:53.488776Z",
     "start_time": "2024-06-11T18:37:53.130030Z"
    }
   },
   "source": [
    "plt.scatter(data['B-V'], data['M_V'], s=1 )\n",
    "\n",
    "plt.title('HR diagram of M13')\n",
    "plt.xlabel('$B-V$')\n",
    "plt.ylabel('$M_V$')\n",
    "plt.gca().invert_yaxis()\n",
    "\n",
    "plt.show()"
   ],
   "outputs": [
    {
     "data": {
      "text/plain": [
       "<Figure size 432x288 with 1 Axes>"
      ],
      "image/png": "[encoded data removed]"
     },
     "metadata": {
      "needs_background": "light"
     },
     "output_type": "display_data"
    }
   ],
   "execution_count": 19
  },
  {
   "cell_type": "code",
   "metadata": {
    "ExecuteTime": {
     "end_time": "2024-06-11T18:39:12.771272Z",
     "start_time": "2024-06-11T18:39:12.640437Z"
    }
   },
   "source": "!pwd",
   "outputs": [
    {
     "name": "stdout",
     "output_type": "stream",
     "text": [
      "/Users/ashepelev/astro/astro.notebook/astro.notebook.third/calc/hr-clusters\r\n"
     ]
    }
   ],
   "execution_count": 1
  },
  {
   "metadata": {},
   "cell_type": "code",
   "outputs": [],
   "execution_count": null,
   "source": ""
  }
 ],
 "metadata": {
  "kernelspec": {
   "display_name": "PyCharm (pythonProject)",
   "language": "python",
   "name": "pycharm-bc684a97"
  },
  "language_info": {
   "codemirror_mode": {
    "name": "ipython",
    "version": 3
   },
   "file_extension": ".py",
   "mimetype": "text/x-python",
   "name": "python",
   "nbconvert_exporter": "python",
   "pygments_lexer": "ipython3",
   "version": "3.8.5"
  }
 },
 "nbformat": 4,
 "nbformat_minor": 4
}
